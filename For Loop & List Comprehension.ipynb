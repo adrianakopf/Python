{
 "cells": [
  {
   "cell_type": "code",
   "execution_count": 59,
   "id": "60982cfe",
   "metadata": {},
   "outputs": [],
   "source": [
    "### Note that list comprehension is not an exact replacement of for loops, \n",
    "### because list comprehensions create a new list object, \n",
    "### whereas the typical for loop modifies an existing list."
   ]
  },
  {
   "cell_type": "code",
   "execution_count": 53,
   "id": "cbc3ef6b",
   "metadata": {},
   "outputs": [
    {
     "name": "stdout",
     "output_type": "stream",
     "text": [
      "[10, 20, 30, 40]\n",
      "[20, 30, 40, 50]\n",
      "[30, 40, 50, 60]\n"
     ]
    }
   ],
   "source": [
    "# LIST\n",
    "my_list = [10, 20, 30, 40]\n",
    "print(my_list)\n",
    "\n",
    "# Add a number to every element\n",
    "# FOR LOOP\n",
    "for i in range(len(my_list)):\n",
    "    my_list[ i ] += 10   \n",
    "print(my_list)\n",
    "\n",
    "# LIST COMPREHENSION\n",
    "my_list = [(i + 10) for i in my_list]\n",
    "print(my_list)"
   ]
  },
  {
   "cell_type": "code",
   "execution_count": 54,
   "id": "b1d173ab",
   "metadata": {},
   "outputs": [
    {
     "name": "stdout",
     "output_type": "stream",
     "text": [
      "Enter numbers:1 2\n",
      "[1, 2]\n",
      "Enter numbers:1 2\n",
      "[1, 2]\n"
     ]
    }
   ],
   "source": [
    "# Convert user input to a list of integers\n",
    "\n",
    "# FOR LOOP\n",
    "user_inp = input('Enter numbers:')\n",
    "my_list = []\n",
    "for i in user_inp.split():\n",
    "    my_list.append(int(i))\n",
    "print(my_list)\n",
    "\n",
    "# LIST COMPREHENSION\n",
    "user_inp = input('Enter numbers:')\n",
    "my_list = [int(i) for i in user_inp.split()]\n",
    "print(my_list)"
   ]
  },
  {
   "cell_type": "code",
   "execution_count": 56,
   "id": "f1d03e1d",
   "metadata": {},
   "outputs": [
    {
     "name": "stdout",
     "output_type": "stream",
     "text": [
      "[31, 52, 100]\n",
      "[31, 52, 100]\n"
     ]
    }
   ],
   "source": [
    "# Find the sum of each row in a two-dimensional list\n",
    "\n",
    "my_list = [[1, 10, 20], \n",
    "           [2, 20, 30], \n",
    "           [100]]\n",
    "\n",
    "# FOR LOOP\n",
    "sum_list = []\n",
    "for row in my_list:\n",
    "    sum_list.append(sum(row))\n",
    "print(sum_list)\n",
    "\n",
    "# LIST COMPREHENSION\n",
    "sum_list = [sum(row) for row in my_list]\n",
    "print(sum_list)"
   ]
  },
  {
   "cell_type": "code",
   "execution_count": 58,
   "id": "035a1769",
   "metadata": {},
   "outputs": [
    {
     "name": "stdout",
     "output_type": "stream",
     "text": [
      "31\n",
      "31\n"
     ]
    }
   ],
   "source": [
    "# Find the sum of the row with the smallest sum in a two-dimensional table\n",
    "\n",
    "my_list = [[1, 10, 20], \n",
    "           [2, 20, 30], \n",
    "           [100]]\n",
    "\n",
    "# FOR LOOP\n",
    "sum_list = []\n",
    "for row in my_list:\n",
    "    sum_list.append(sum(row))\n",
    "min_row = min(sum_list)\n",
    "print(min_row)\n",
    "\n",
    "# LIST COMPREHENSION\n",
    "min_row = min([sum(row) for row in my_list])\n",
    "print(min_row)"
   ]
  },
  {
   "cell_type": "code",
   "execution_count": 60,
   "id": "c081ed94",
   "metadata": {},
   "outputs": [
    {
     "name": "stdout",
     "output_type": "stream",
     "text": [
      "Enter numbers:1 3 5 8 \n",
      "Even numbers only: [8]\n"
     ]
    }
   ],
   "source": [
    "# Conditional list comprehension example: Return a list of EVEN numbers.\n",
    "\n",
    "# Get a list of integers from the user\n",
    "numbers = [int(i) for i in input('Enter numbers:').split()]\n",
    "\n",
    "# Return a list of only even numbers\n",
    "even_numbers = [i for i in numbers if (i % 2) == 0]\n",
    "\n",
    "print(f'Even numbers only: {even_numbers}')"
   ]
  },
  {
   "cell_type": "code",
   "execution_count": null,
   "id": "4434642b",
   "metadata": {},
   "outputs": [],
   "source": []
  }
 ],
 "metadata": {
  "kernelspec": {
   "display_name": "Python 3 (ipykernel)",
   "language": "python",
   "name": "python3"
  },
  "language_info": {
   "codemirror_mode": {
    "name": "ipython",
    "version": 3
   },
   "file_extension": ".py",
   "mimetype": "text/x-python",
   "name": "python",
   "nbconvert_exporter": "python",
   "pygments_lexer": "ipython3",
   "version": "3.9.7"
  }
 },
 "nbformat": 4,
 "nbformat_minor": 5
}

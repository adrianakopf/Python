{
 "cells": [
  {
   "cell_type": "markdown",
   "id": "65369726",
   "metadata": {},
   "source": [
    "<h2>Python Collections (Arrays) </h2>\n",
    "\n",
    "There are four collection data types in the Python programming language:\n",
    "\n",
    "<ol>\n",
    "    <li><b>List</b> is a collection which is ordered and changeable. Allows duplicate members.</li>\n",
    "    <li><b>Tuple</b> is a collection which is ordered and unchangeable. Allows duplicate members.</li>\n",
    "    <li><b>Set</b> is a collection which is unordered, unchangeable, and unindexed. No duplicate members.</li>\n",
    "    <li><b>Dictionary</b> is a collection which is ordered** and changeable. No duplicate members.</li>\n",
    "</ol>\n",
    "    \n",
    "Set items are unchangeable, but you can remove and/or add items whenever you like. <br>\n",
    "As of Python version 3.7, dictionaries are ordered. In Python 3.6 and earlier, dictionaries are unordered. <br>\n",
    "\n",
    "When choosing a collection type, it is useful to understand the properties of that type.<br>\n",
    "Choosing the right type for a particular data set could mean retention of meaning, and, it could mean an increase in efficiency or security.\n",
    "   "
   ]
  },
  {
   "cell_type": "markdown",
   "id": "b9c6d973",
   "metadata": {},
   "source": [
    "<h2>Strings</h2>"
   ]
  },
  {
   "cell_type": "code",
   "execution_count": 4,
   "id": "bd65bcc5",
   "metadata": {},
   "outputs": [
    {
     "name": "stdout",
     "output_type": "stream",
     "text": [
      "e\n"
     ]
    }
   ],
   "source": [
    "# Strings are Arrays \n",
    "a = \"Hello, World!\"\n",
    "print(a[1])"
   ]
  },
  {
   "cell_type": "code",
   "execution_count": 5,
   "id": "b597a693",
   "metadata": {},
   "outputs": [
    {
     "name": "stdout",
     "output_type": "stream",
     "text": [
      "b\n",
      "a\n",
      "n\n",
      "a\n",
      "n\n",
      "a\n"
     ]
    }
   ],
   "source": [
    "#Looping Through a String -----------\n",
    "for x in \"banana\":\n",
    "    print (x)"
   ]
  },
  {
   "cell_type": "code",
   "execution_count": 6,
   "id": "8038765a",
   "metadata": {},
   "outputs": [
    {
     "name": "stdout",
     "output_type": "stream",
     "text": [
      "10\n"
     ]
    }
   ],
   "source": [
    "#String Length ----------------\n",
    "a = \"JavaScript\"\n",
    "print(len(a))"
   ]
  },
  {
   "cell_type": "code",
   "execution_count": 7,
   "id": "7f21a7ce",
   "metadata": {},
   "outputs": [
    {
     "name": "stdout",
     "output_type": "stream",
     "text": [
      "True\n"
     ]
    }
   ],
   "source": [
    "#Check String ----------\n",
    "txt = \"Best time ever\"\n",
    "print (\"time\" in txt)"
   ]
  },
  {
   "cell_type": "code",
   "execution_count": 8,
   "id": "6bf9b092",
   "metadata": {},
   "outputs": [
    {
     "name": "stdout",
     "output_type": "stream",
     "text": [
      "False\n"
     ]
    }
   ],
   "source": [
    "#Check if NOT --------------\n",
    "txt = \"Best time ever\"\n",
    "print (\"time\" not in txt)"
   ]
  },
  {
   "cell_type": "code",
   "execution_count": 9,
   "id": "6f3d30c5",
   "metadata": {},
   "outputs": [
    {
     "name": "stdout",
     "output_type": "stream",
     "text": [
      "thon is \n"
     ]
    }
   ],
   "source": [
    "# Slicing -------------------\n",
    "b= \"Python is awesome!\"\n",
    "print (b[2:10])"
   ]
  },
  {
   "cell_type": "code",
   "execution_count": 10,
   "id": "2ddc776a",
   "metadata": {},
   "outputs": [
    {
     "name": "stdout",
     "output_type": "stream",
     "text": [
      "Hello\n"
     ]
    }
   ],
   "source": [
    "# Slice From the Start----------------------------\n",
    "b = \"Hello, World!\"\n",
    "print(b[ :5])"
   ]
  },
  {
   "cell_type": "code",
   "execution_count": 11,
   "id": "5b07baa1",
   "metadata": {},
   "outputs": [
    {
     "name": "stdout",
     "output_type": "stream",
     "text": [
      "llo, World!\n"
     ]
    }
   ],
   "source": [
    "# Slice To the End----------------------------\n",
    "b = \"Hello, World!\"\n",
    "print(b[2: ])"
   ]
  },
  {
   "cell_type": "code",
   "execution_count": 12,
   "id": "788adebe",
   "metadata": {},
   "outputs": [
    {
     "name": "stdout",
     "output_type": "stream",
     "text": [
      "orl\n"
     ]
    }
   ],
   "source": [
    "# Negative Indexing----------------------------\n",
    "b = \"Hello, World!\"\n",
    "print(b[-5:-2])"
   ]
  },
  {
   "cell_type": "code",
   "execution_count": 13,
   "id": "f275f2be",
   "metadata": {},
   "outputs": [
    {
     "name": "stdout",
     "output_type": "stream",
     "text": [
      "HELLO, WORLD!\n"
     ]
    }
   ],
   "source": [
    "# Modify Strings - Upper Case----------------------------\n",
    "a = \"Hello, World!\"\n",
    "print(a.upper())"
   ]
  },
  {
   "cell_type": "code",
   "execution_count": 14,
   "id": "c4db6bd2",
   "metadata": {},
   "outputs": [
    {
     "name": "stdout",
     "output_type": "stream",
     "text": [
      "hello, world!\n"
     ]
    }
   ],
   "source": [
    "# Modify Strings - Lower Case----------------------------\n",
    "a = \"Hello, World!\"\n",
    "print(a.lower())"
   ]
  },
  {
   "cell_type": "code",
   "execution_count": 15,
   "id": "bb0ae5e4",
   "metadata": {},
   "outputs": [
    {
     "name": "stdout",
     "output_type": "stream",
     "text": [
      "Hello, World!\n"
     ]
    }
   ],
   "source": [
    "# Remove Whitespace ----------------------------\n",
    "# strip() method removes any whitespace from the beginning or the end\n",
    "a = \"     Hello, World!      \"\n",
    "print(a.strip())"
   ]
  },
  {
   "cell_type": "code",
   "execution_count": 16,
   "id": "f0d0014d",
   "metadata": {},
   "outputs": [
    {
     "name": "stdout",
     "output_type": "stream",
     "text": [
      "Xello, World!\n"
     ]
    }
   ],
   "source": [
    "# Replace String----------------------------\n",
    "a = \"Hello, World!\"\n",
    "print(a.replace(\"H\", \"X\"))"
   ]
  },
  {
   "cell_type": "code",
   "execution_count": 17,
   "id": "fb7a560a",
   "metadata": {},
   "outputs": [
    {
     "name": "stdout",
     "output_type": "stream",
     "text": [
      "['Hello', ' World!']\n"
     ]
    }
   ],
   "source": [
    "# Split String----------------------------\n",
    "a = \"Hello, World!\"\n",
    "print(a.split(\",\"))"
   ]
  },
  {
   "cell_type": "code",
   "execution_count": 18,
   "id": "199dcfe2",
   "metadata": {},
   "outputs": [
    {
     "name": "stdout",
     "output_type": "stream",
     "text": [
      "Hello World\n"
     ]
    }
   ],
   "source": [
    "# String Concatenation----------------------------\n",
    "a = \"Hello\"\n",
    "b = \"World\"\n",
    "c = a + \" \" + b\n",
    "print(c)"
   ]
  },
  {
   "cell_type": "code",
   "execution_count": 19,
   "id": "a95f27d0",
   "metadata": {},
   "outputs": [
    {
     "name": "stdout",
     "output_type": "stream",
     "text": [
      "My name is John, and I am 36\n"
     ]
    }
   ],
   "source": [
    "# combine strings and numbers by using the format() method!-----------\n",
    "# The format() method takes the passed arguments, \n",
    "# formats them, and places them in the string \n",
    "# where the placeholders {} are\n",
    "age = 36\n",
    "txt = \"My name is John, and I am {}\"\n",
    "print(txt.format(age))"
   ]
  },
  {
   "cell_type": "code",
   "execution_count": 20,
   "id": "526686b0",
   "metadata": {},
   "outputs": [
    {
     "name": "stdout",
     "output_type": "stream",
     "text": [
      "I want 3 pieces of item 567 for 49.95 dollars.\n"
     ]
    }
   ],
   "source": [
    "quantity = 3\n",
    "itemno = 567\n",
    "price = 49.95\n",
    "myorder = \"I want {} pieces of item {} for {} dollars.\"\n",
    "print(myorder.format(quantity, itemno, price))"
   ]
  },
  {
   "cell_type": "code",
   "execution_count": null,
   "id": "9c321101",
   "metadata": {},
   "outputs": [],
   "source": [
    "# <!-- # Escape Character----------------------\n",
    "# To insert characters that are illegal in a string, use an escape character.\n",
    "# txt = \"We are the so-called \\\"Vikings\\\" from the north.\"\n",
    "# print (txt)\n",
    "\n",
    "#   Code\t    Result\t\n",
    "#   \\'\t    Single Quote\t\n",
    "#   \\\\\t    Backslash\t\n",
    "#   \\n\t    New Line\t\n",
    "#   \\r\t    Carriage Return\t\n",
    "#   \\t\t    Tab\t\n",
    "#   \\b\t    Backspace\n",
    "\n",
    "# Python Arithmetic Operators ---------------------\n",
    "#   Operator\tName\t            Example\t\n",
    "#   +\t        Addition\t        x + y\t\n",
    "#   -\t        Subtraction\t        x - y\t\n",
    "#   *\t        Multiplication\t    x * y\t\n",
    "#   /\t        Division\t        x / y\t\n",
    "#   %\t        Modulus\t            x % y\t\n",
    "#   **\t        Exponentiation  \tx ** y\t\n",
    "#   //\t        Floor division\t    x // y\n",
    "\n",
    "# Python Assignment Operators---------------------\n",
    "#       Operator\tExample\t    Same As\t\n",
    "#       =\t        x = 5\t    x = 5\t\n",
    "#       +=\t        x += 3  \tx = x + 3\t\n",
    "#       -=\t        x -= 3  \tx = x - 3\t\n",
    "#       *=\t        x *= 3\t    x = x * 3\t\n",
    "#       /=\t        x /= 3\t    x = x / 3\t\n",
    "#       %=\t        x %= 3\t    x = x % 3\t\n",
    "#       //=\t        x //= 3\t    x = x // 3\t\n",
    "#       **=\t        x **= 3\t    x = x ** 3\t\n",
    "#       &=\t        x &= 3\t    x = x & 3\t\n",
    "#       |=\t        x |= 3\t    x = x | 3\t\n",
    "#       ^=\t        x ^= 3\t    x = x ^ 3\t\n",
    "#       >>=\t        x >>= 3\t    x = x >> 3\t\n",
    "#       <<=\t        x <<= 3\t    x = x << 3\n",
    "\n",
    "\n",
    "# Python Comparison Operators---------------------\n",
    "#       Operator\t        Name\t                    Example\n",
    "#       ==\t            Equal\t                    x == y\t\n",
    "#       !=\t            Not equal\t                x != y\t\n",
    "#       >\t                Greater than\t            x > y\t\n",
    "#       <\t                Less than\t                x < y\t\n",
    "#       >=\t            Greater than or equal to\tx >= y\t\n",
    "#       <=\t            Less than or equal to\t    x <= y\n",
    "\n",
    "# Python Identity Operators--------------------------\n",
    "#       Operator\t    Description\tExample\t\n",
    "#       is \t            Returns True if both variables are the same object\tx is y\t\n",
    "#       is not\t        Returns True if both variables are not the same object\tx is not y\n",
    "\n",
    "# Python Membership Operators-------------------------\n",
    "#   Operator\t    Description\t                                                                            Example\t\n",
    "#   in \t            Returns True if a sequence with the specified value is present in the object\t        x in y\t\n",
    "#   not in\t        Returns True if a sequence with the specified value is not present in the object\t    x not in y -->"
   ]
  },
  {
   "cell_type": "markdown",
   "id": "2104b869",
   "metadata": {},
   "source": [
    "<h3>Lists (data type in Python used to store collections of data)</h3>\n",
    "List items are ordered, changeable, and allow duplicate values.<br>\n",
    "\n",
    "<b>Ordered</b><br>\n",
    "When we say that lists are ordered, it means that the items have a defined order, and that order will not change.<br>\n",
    "If you add new items to a list, the new items will be placed at the end of the list.<br>\n",
    "\n",
    "<b>Changeable</b><br>\n",
    "The list is changeable, meaning that we can change, add, and remove items in a list after it has been created.<br>\n",
    "\n",
    "<b>Allow Duplicates</b><br>\n",
    "Since lists are indexed, lists can have items with the same value<br>\n"
   ]
  },
  {
   "cell_type": "code",
   "execution_count": 21,
   "id": "ee0def59",
   "metadata": {},
   "outputs": [
    {
     "name": "stdout",
     "output_type": "stream",
     "text": [
      "['apple', 'banana', 'cherry']\n"
     ]
    }
   ],
   "source": [
    "thislist = [\"apple\", \"banana\", \"cherry\"]\n",
    "print(thislist)"
   ]
  },
  {
   "cell_type": "code",
   "execution_count": 22,
   "id": "8864773d",
   "metadata": {},
   "outputs": [
    {
     "name": "stdout",
     "output_type": "stream",
     "text": [
      "['apple', 'banana', 'cherry', 'orange']\n"
     ]
    }
   ],
   "source": [
    "# Append Items------------------------\n",
    "thislist = [\"apple\", \"banana\", \"cherry\"]\n",
    "thislist.append(\"orange\")\n",
    "print(thislist)"
   ]
  },
  {
   "cell_type": "code",
   "execution_count": 41,
   "id": "8f7a8ff9",
   "metadata": {},
   "outputs": [
    {
     "name": "stdout",
     "output_type": "stream",
     "text": [
      "['apple', 'orange', 'banana', 'cherry']\n"
     ]
    }
   ],
   "source": [
    "# Insert Items\n",
    "\n",
    "thislist = [\"apple\", \"banana\", \"cherry\"]\n",
    "thislist.insert(1, \"orange\")\n",
    "print(thislist)"
   ]
  },
  {
   "cell_type": "code",
   "execution_count": 40,
   "id": "d62013fa",
   "metadata": {},
   "outputs": [
    {
     "name": "stdout",
     "output_type": "stream",
     "text": [
      "['apple1', 'apple2', 'apple3', 'mango1', 'mango2', 'mango3']\n"
     ]
    }
   ],
   "source": [
    "# Extend List\n",
    "\n",
    "thislist = [\"apple1\", \"apple2\", \"apple3\"]\n",
    "tropical = [\"mango1\", \"mango2\", \"mango3\"]\n",
    "thislist.extend(tropical)\n",
    "print(thislist)"
   ]
  },
  {
   "cell_type": "code",
   "execution_count": 39,
   "id": "e0d0102b",
   "metadata": {},
   "outputs": [
    {
     "name": "stdout",
     "output_type": "stream",
     "text": [
      "['apple', 'cherry']\n"
     ]
    }
   ],
   "source": [
    "# Remove Specified Item\n",
    "\n",
    "thislist = [\"apple\", \"banana\", \"cherry\"]\n",
    "thislist.remove(\"banana\")\n",
    "print(thislist)"
   ]
  },
  {
   "cell_type": "code",
   "execution_count": 38,
   "id": "65d9681c",
   "metadata": {},
   "outputs": [
    {
     "name": "stdout",
     "output_type": "stream",
     "text": [
      "['apple', 'cherry']\n"
     ]
    }
   ],
   "source": [
    "# Remove Specified Index\n",
    "# If you do not specify the index, the pop() method removes the last item.\n",
    "\n",
    "thislist = [\"apple\", \"banana\", \"cherry\"]\n",
    "thislist.pop(1)\n",
    "print(thislist)"
   ]
  },
  {
   "cell_type": "code",
   "execution_count": 37,
   "id": "116bf1fe",
   "metadata": {},
   "outputs": [
    {
     "name": "stdout",
     "output_type": "stream",
     "text": [
      "['banana', 'cherry']\n"
     ]
    }
   ],
   "source": [
    "# The del keyword also removes the specified index\n",
    "\n",
    "thislist = [\"apple\", \"banana\", \"cherry\"]\n",
    "del thislist[0]\n",
    "print(thislist)"
   ]
  },
  {
   "cell_type": "code",
   "execution_count": 35,
   "id": "66737a54",
   "metadata": {},
   "outputs": [
    {
     "ename": "NameError",
     "evalue": "name 'thislist' is not defined",
     "output_type": "error",
     "traceback": [
      "\u001b[1;31m---------------------------------------------------------------------------\u001b[0m",
      "\u001b[1;31mNameError\u001b[0m                                 Traceback (most recent call last)",
      "\u001b[1;32m~\\AppData\\Local\\Temp/ipykernel_4380/2853493.py\u001b[0m in \u001b[0;36m<module>\u001b[1;34m\u001b[0m\n\u001b[0;32m      3\u001b[0m \u001b[0mthislist\u001b[0m \u001b[1;33m=\u001b[0m \u001b[1;33m[\u001b[0m\u001b[1;34m\"apple\"\u001b[0m\u001b[1;33m,\u001b[0m \u001b[1;34m\"banana\"\u001b[0m\u001b[1;33m,\u001b[0m \u001b[1;34m\"cherry\"\u001b[0m\u001b[1;33m]\u001b[0m\u001b[1;33m\u001b[0m\u001b[1;33m\u001b[0m\u001b[0m\n\u001b[0;32m      4\u001b[0m \u001b[1;32mdel\u001b[0m \u001b[0mthislist\u001b[0m\u001b[1;33m\u001b[0m\u001b[1;33m\u001b[0m\u001b[0m\n\u001b[1;32m----> 5\u001b[1;33m \u001b[0mprint\u001b[0m\u001b[1;33m(\u001b[0m\u001b[0mthislist\u001b[0m\u001b[1;33m)\u001b[0m\u001b[1;33m\u001b[0m\u001b[1;33m\u001b[0m\u001b[0m\n\u001b[0m",
      "\u001b[1;31mNameError\u001b[0m: name 'thislist' is not defined"
     ]
    }
   ],
   "source": [
    "# Delete the entire list\n",
    "\n",
    "thislist = [\"apple\", \"banana\", \"cherry\"]\n",
    "del thislist\n",
    "print(thislist)"
   ]
  },
  {
   "cell_type": "code",
   "execution_count": 36,
   "id": "6fb98691",
   "metadata": {},
   "outputs": [
    {
     "name": "stdout",
     "output_type": "stream",
     "text": [
      "[]\n"
     ]
    }
   ],
   "source": [
    "# Clear the List\n",
    "# The clear() method empties the list.\n",
    "\n",
    "thislist = [\"apple\", \"banana\", \"cherry\"]\n",
    "thislist.clear()\n",
    "print(thislist)"
   ]
  },
  {
   "cell_type": "code",
   "execution_count": 32,
   "id": "6536ec53",
   "metadata": {},
   "outputs": [
    {
     "name": "stdout",
     "output_type": "stream",
     "text": [
      "apple\n",
      "banana\n",
      "cherry\n"
     ]
    }
   ],
   "source": [
    "# Loop Through a List\n",
    "\n",
    "thislist = [\"apple\", \"banana\", \"cherry\"]\n",
    "for x in thislist:\n",
    "  print(x)"
   ]
  },
  {
   "cell_type": "code",
   "execution_count": 31,
   "id": "00b71735",
   "metadata": {},
   "outputs": [
    {
     "name": "stdout",
     "output_type": "stream",
     "text": [
      "apple\n",
      "banana\n",
      "cherry\n"
     ]
    }
   ],
   "source": [
    "# Loop Through the Index Numbers\n",
    "\n",
    "thislist = [\"apple\", \"banana\", \"cherry\"]\n",
    "for i in range(len(thislist)):\n",
    "  print(thislist[i])"
   ]
  },
  {
   "cell_type": "code",
   "execution_count": 30,
   "id": "ce324c30",
   "metadata": {},
   "outputs": [
    {
     "name": "stdout",
     "output_type": "stream",
     "text": [
      "apple\n",
      "banana\n",
      "cherry\n"
     ]
    }
   ],
   "source": [
    "# Using a While Loop\n",
    "\n",
    "thislist = [\"apple\", \"banana\", \"cherry\"]\n",
    "i = 0\n",
    "while i < len(thislist):\n",
    "  print(thislist[i])\n",
    "  i = i + 1"
   ]
  },
  {
   "cell_type": "code",
   "execution_count": 28,
   "id": "f4c250a6",
   "metadata": {},
   "outputs": [
    {
     "name": "stdout",
     "output_type": "stream",
     "text": [
      "['banana', 'kiwi', 'mango', 'orange', 'pineapple']\n"
     ]
    }
   ],
   "source": [
    "# Sort List Alphanumerically---------------------\n",
    "# sort() method that will sort the list alphanumerically, ascending, by default:\n",
    "\n",
    "thislist = [\"orange\", \"mango\", \"kiwi\", \"pineapple\", \"banana\"]\n",
    "thislist.sort()\n",
    "print(thislist)"
   ]
  },
  {
   "cell_type": "code",
   "execution_count": 27,
   "id": "ba3864c3",
   "metadata": {},
   "outputs": [
    {
     "name": "stdout",
     "output_type": "stream",
     "text": [
      "[23, 50, 65, 82, 100]\n"
     ]
    }
   ],
   "source": [
    "thislist = [100, 50, 65, 82, 23]\n",
    "thislist.sort()\n",
    "print(thislist)"
   ]
  },
  {
   "cell_type": "code",
   "execution_count": 26,
   "id": "053b70ed",
   "metadata": {},
   "outputs": [
    {
     "name": "stdout",
     "output_type": "stream",
     "text": [
      "['pineapple', 'orange', 'mango', 'kiwi', 'banana']\n"
     ]
    }
   ],
   "source": [
    "# Sort Descending---------\n",
    "# use the keyword argument reverse = True\n",
    "thislist = [\"orange\", \"mango\", \"kiwi\", \"pineapple\", \"banana\"]\n",
    "thislist.sort(reverse = True)\n",
    "print(thislist)"
   ]
  },
  {
   "cell_type": "code",
   "execution_count": 29,
   "id": "aed568fd",
   "metadata": {},
   "outputs": [
    {
     "name": "stdout",
     "output_type": "stream",
     "text": [
      "['Kiwi', 'Orange', 'banana', 'cherry']\n"
     ]
    }
   ],
   "source": [
    "# Case Insensitive Sort--------------\n",
    "# By default the sort() method is case sensitive, resulting in all capital letters being sorted before lower case letters\n",
    "\n",
    "thislist = [\"banana\", \"Orange\", \"Kiwi\", \"cherry\"]\n",
    "thislist.sort()\n",
    "print(thislist)"
   ]
  },
  {
   "cell_type": "code",
   "execution_count": 24,
   "id": "983681e6",
   "metadata": {},
   "outputs": [
    {
     "name": "stdout",
     "output_type": "stream",
     "text": [
      "['banana', 'cherry', 'Kiwi', 'Orange']\n"
     ]
    }
   ],
   "source": [
    "# So if you want a case-insensitive sort function, use str.lower as a key function-----------\n",
    "thislist = [\"banana\", \"Orange\", \"Kiwi\", \"cherry\"]\n",
    "thislist.sort(key = str.lower)\n",
    "print(thislist)"
   ]
  },
  {
   "cell_type": "markdown",
   "id": "72a9a31b",
   "metadata": {},
   "source": [
    "<h2>List Methods</h2>\n",
    "Lists are created using square brackets [ ]"
   ]
  },
  {
   "cell_type": "code",
   "execution_count": null,
   "id": "440e983b",
   "metadata": {},
   "outputs": [],
   "source": [
    "# Method\t    Description\n",
    "# append()\t    Adds an element at the end of the list\n",
    "# clear()\t    Removes all the elements from the list\n",
    "# copy()\t    Returns a copy of the list\n",
    "# count()\t    Returns the number of elements with the specified value\n",
    "# extend()\t    Add the elements of a list (or any iterable), to the end of the current list\n",
    "# index()\t    Returns the index of the first element with the specified value\n",
    "# insert()\t    Adds an element at the specified position\n",
    "# pop()\t        Removes the element at the specified position\n",
    "# remove()  \tRemoves the item with the specified value\n",
    "# reverse()\t    Reverses the order of the list\n",
    "# sort()\t    Sorts the list"
   ]
  },
  {
   "cell_type": "markdown",
   "id": "e14bf466",
   "metadata": {},
   "source": [
    "<h2>Tuple Methods </h2>\n",
    "Tuples are written with round brackets ( ) <br>\n",
    "A set is a collection which is unordered, unchangeable*, and unindexed. <br>\n",
    "A tuple is a collection which is ordered and unchangeable."
   ]
  },
  {
   "cell_type": "code",
   "execution_count": null,
   "id": "462f865f",
   "metadata": {},
   "outputs": [],
   "source": [
    "# Method\tDescription\n",
    "# count()\tReturns the number of times a specified value occurs in a tuple\n",
    "# index()\tSearches the tuple for a specified value and returns the position of where it was found"
   ]
  },
  {
   "cell_type": "markdown",
   "id": "2c5b9ccd",
   "metadata": {},
   "source": [
    "<h2>Set </h2>\n",
    "Sets are written with curly brackets { } <br>\n",
    "Sets are used to store multiple items in a single variable.<br>\n",
    "A set is a collection which is unordered, unchangeable*, and unindexed.<br>\n",
    "* Note: Set items are unchangeable, but you can remove items and add new items."
   ]
  },
  {
   "cell_type": "code",
   "execution_count": null,
   "id": "a5744180",
   "metadata": {},
   "outputs": [],
   "source": [
    "# Method\t                        Description\n",
    "# add()\t                            Adds an element to the set\n",
    "# clear()\t                        Removes all the elements from the set\n",
    "# copy()\t                        Returns a copy of the set\n",
    "# difference()\t                    Returns a set containing the difference between two or more sets\n",
    "# difference_update()\t            Removes the items in this set that are also included in another, specified set\n",
    "# discard()\t                        Remove the specified item\n",
    "# intersection()\t                Returns a set, that is the intersection of two other sets\n",
    "# intersection_update()\t            Removes the items in this set that are not present in other, specified set(s)\n",
    "# isdisjoint()\t                    Returns whether two sets have a intersection or not\n",
    "# issubset()\t                    Returns whether another set contains this set or not\n",
    "# issuperset()\t                    Returns whether this set contains another set or not\n",
    "# pop()\t                            Removes an element from the set\n",
    "# remove()                          Removes the specified element\n",
    "# symmetric_difference()\t        Returns a set with the symmetric differences of two sets\n",
    "# symmetric_difference_update()\t    inserts the symmetric differences from this set and another\n",
    "# union()\t                        Return a set containing the union of sets\n",
    "# update()\t                        Update the set with the union of this set and others"
   ]
  },
  {
   "cell_type": "markdown",
   "id": "60501971",
   "metadata": {},
   "source": [
    "<h2>Python Dictionaries</h2><br>\n",
    "Dictionaries are used to store data values in key: value pairs.<br>\n",
    "A dictionary is a collection which is ordered*, changeable and do not allow duplicates.<br>\n",
    "As of Python version 3.7, dictionaries are ordered. In Python 3.6 and earlier, dictionaries are unordered.<br>\n",
    "Dictionaries are written with curly brackets, and have keys and values.<br>\n",
    "Dictionaries cannot have two items with the same key.<br>\n",
    "Duplicate values will overwrite existing values.<br>\n"
   ]
  },
  {
   "cell_type": "code",
   "execution_count": null,
   "id": "6c1b4da2",
   "metadata": {},
   "outputs": [],
   "source": [
    "thisdict = {\n",
    "  \"brand\": \"Ford\",\n",
    "  \"model\": \"Mustang\",\n",
    "  \"year\": 1964\n",
    "}\n",
    "print(thisdict)"
   ]
  }
 ],
 "metadata": {
  "kernelspec": {
   "display_name": "Python 3 (ipykernel)",
   "language": "python",
   "name": "python3"
  },
  "language_info": {
   "codemirror_mode": {
    "name": "ipython",
    "version": 3
   },
   "file_extension": ".py",
   "mimetype": "text/x-python",
   "name": "python",
   "nbconvert_exporter": "python",
   "pygments_lexer": "ipython3",
   "version": "3.9.7"
  }
 },
 "nbformat": 4,
 "nbformat_minor": 5
}
